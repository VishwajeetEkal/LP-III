{
  "nbformat": 4,
  "nbformat_minor": 0,
  "metadata": {
    "kernelspec": {
      "display_name": "Python 3",
      "language": "python",
      "name": "python3"
    },
    "language_info": {
      "codemirror_mode": {
        "name": "ipython",
        "version": 3
      },
      "file_extension": ".py",
      "mimetype": "text/x-python",
      "name": "python",
      "nbconvert_exporter": "python",
      "pygments_lexer": "ipython3",
      "version": "3.8.5"
    },
    "colab": {
      "name": "41217_LP3_3.ipynb",
      "provenance": []
    }
  },
  "cells": [
    {
      "cell_type": "code",
      "metadata": {
        "id": "3c0Lz3poOonx"
      },
      "source": [
        "import numpy as np\n",
        "import pandas as pd\n",
        "import math\n"
      ],
      "execution_count": 1,
      "outputs": []
    },
    {
      "cell_type": "code",
      "metadata": {
        "id": "CYOUZoiFOon1"
      },
      "source": [
        "x=np.array([[2,4],[4,2],[4,4],[4,6],[6,2],[6,4]])\n",
        "y=np.array([0,0,1,0,1,0])  #  0=negative 1=positive class"
      ],
      "execution_count": 2,
      "outputs": []
    },
    {
      "cell_type": "code",
      "metadata": {
        "id": "jqHA9HsYOon2"
      },
      "source": [
        "def eucledian_dist(x1,y1,x2,y2):\n",
        "    return math.sqrt((x1-x2)**2+(y1-y2)**2)"
      ],
      "execution_count": 3,
      "outputs": []
    },
    {
      "cell_type": "code",
      "metadata": {
        "id": "TuoN2yylOon2"
      },
      "source": [
        "def chooseK(arr):\n",
        "    print(\"Size of array :\",arr.shape[0])\n",
        "    k=round(math.sqrt(arr.shape[0]))\n",
        "    if(k%2==0):\n",
        "        k=k+1;\n",
        "    #k should be odd so that classfication can be done properly(No chance of 50%-50% classification)\n",
        "    print(\"Choosen value of K : \",k)\n",
        "    return k;"
      ],
      "execution_count": 4,
      "outputs": []
    },
    {
      "cell_type": "code",
      "metadata": {
        "colab": {
          "base_uri": "https://localhost:8080/"
        },
        "id": "-NeJfMyvOon3",
        "outputId": "14ed022c-aecd-43a9-cc17-9a97744b7a61"
      },
      "source": [
        "chooseK(x)"
      ],
      "execution_count": 5,
      "outputs": [
        {
          "output_type": "stream",
          "text": [
            "Size of array : 6\n",
            "Choosen value of K :  3\n"
          ],
          "name": "stdout"
        },
        {
          "output_type": "execute_result",
          "data": {
            "text/plain": [
              "3"
            ]
          },
          "metadata": {
            "tags": []
          },
          "execution_count": 5
        }
      ]
    },
    {
      "cell_type": "code",
      "metadata": {
        "id": "yWjL_teKOon6"
      },
      "source": [
        "def classifyPoint(x,y,point,k):\n",
        "    inputSize=x.shape[0];\n",
        "    \n",
        "    distance=[]; #for string eucledian distance\n",
        "    for i in range(inputSize):\n",
        "        distance.append(eucledian_dist(point[0],point[1],x[i][0],x[i][1]));\n",
        "        \n",
        "    mergedList=list(zip(distance,y));\n",
        "    mergedList.sort(); #sort according to increasing distance\n",
        "    \n",
        "    freq0=0; #Freq of group 0 (negative)\n",
        "    freq1=0; #Freq of group 1 (positive)\n",
        "    \n",
        "    for i in range(k): #Iterate for k neighbours\n",
        "        if(mergedList[i][1]==0):\n",
        "            freq0=freq0+1;\n",
        "        elif (mergedList[i][1]==1):\n",
        "            freq1=freq1+1;\n",
        "    \n",
        "    if(freq0>freq1):\n",
        "        return 0;\n",
        "    else:\n",
        "        return 1;"
      ],
      "execution_count": 6,
      "outputs": []
    },
    {
      "cell_type": "code",
      "metadata": {
        "id": "BwrXE3aEOon7"
      },
      "source": [
        "def main():\n",
        "    \n",
        "    print(\"Input X coordinate\");\n",
        "    x_co=int(input())\n",
        "    print(\"Enter Y coordinate \")\n",
        "    y_co=int(input())\n",
        "\n",
        "    pointt=(x_co,y_co)\n",
        "    print(pointt)\n",
        "    k=chooseK(x);\n",
        "    label=\"--\"\n",
        "    if(classifyPoint(x=x,y=y,point=pointt,k=k)==0):\n",
        "        label=\"Negative\";\n",
        "    else:\n",
        "        label:\"Positive\";\n",
        "    print(\"Point {} belongs to {} class\".format(pointt,label))\n",
        "    print (classifyPoint(x=x,y=y,point=pointt,k=k))\n",
        "    #classifyPoint(x=x,y=y,point=pointt,k=k)"
      ],
      "execution_count": 7,
      "outputs": []
    },
    {
      "cell_type": "code",
      "metadata": {
        "colab": {
          "base_uri": "https://localhost:8080/"
        },
        "id": "n9Khd6_9Oon8",
        "outputId": "5e34c734-ec02-403f-83ee-31d900cd986a"
      },
      "source": [
        "main()"
      ],
      "execution_count": 9,
      "outputs": [
        {
          "output_type": "stream",
          "text": [
            "Input X coordinate\n",
            "6\n",
            "Enter Y coordinate \n",
            "6\n",
            "(6, 6)\n",
            "Size of array : 6\n",
            "Choosen value of K :  3\n",
            "Point (6, 6) belongs to Negative class\n",
            "0\n"
          ],
          "name": "stdout"
        }
      ]
    },
    {
      "cell_type": "code",
      "metadata": {
        "id": "e7TgaUQ4Oon8"
      },
      "source": [
        ""
      ],
      "execution_count": 8,
      "outputs": []
    }
  ]
}