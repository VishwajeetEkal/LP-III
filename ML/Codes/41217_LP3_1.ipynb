{
  "nbformat": 4,
  "nbformat_minor": 0,
  "metadata": {
    "kernelspec": {
      "display_name": "Python 3",
      "language": "python",
      "name": "python3"
    },
    "language_info": {
      "codemirror_mode": {
        "name": "ipython",
        "version": 3
      },
      "file_extension": ".py",
      "mimetype": "text/x-python",
      "name": "python",
      "nbconvert_exporter": "python",
      "pygments_lexer": "ipython3",
      "version": "3.8.5"
    },
    "colab": {
      "name": "41217_LP3_1",
      "provenance": []
    }
  },
  "cells": [
    {
      "cell_type": "code",
      "metadata": {
        "id": "RzK4UCmrOfNr"
      },
      "source": [
        "import numpy as np\n",
        "import matplotlib.pyplot as plt\n",
        "import pandas as pd"
      ],
      "execution_count": 11,
      "outputs": []
    },
    {
      "cell_type": "code",
      "metadata": {
        "colab": {
          "base_uri": "https://localhost:8080/",
          "height": 282
        },
        "id": "zGPLFYLrOfNx",
        "outputId": "3e777c8a-4fac-4c4c-ce5d-9824a63feff1"
      },
      "source": [
        "#input data\n",
        "x = np.array([10,9,2,15,10,16,11,16])\n",
        "y=np.array([95,80,10,50,45,98,38,93])\n",
        "plt.scatter(x,y)\n"
      ],
      "execution_count": 12,
      "outputs": [
        {
          "output_type": "execute_result",
          "data": {
            "text/plain": [
              "<matplotlib.collections.PathCollection at 0x7f412d4a9750>"
            ]
          },
          "metadata": {
            "tags": []
          },
          "execution_count": 12
        },
        {
          "output_type": "display_data",
          "data": {
            "image/png": "[encoded data removed]",
            "text/plain": [
              "<Figure size 432x288 with 1 Axes>"
            ]
          },
          "metadata": {
            "tags": [],
            "needs_background": "light"
          }
        }
      ]
    },
    {
      "cell_type": "code",
      "metadata": {
        "id": "CTuiB7HTOfN0"
      },
      "source": [
        "def estimate_coefficient(x,y):\n",
        "    #Number of oberservations\n",
        "    N =np.size(x)         #no semicolon here only\n",
        "    \n",
        "    #calculate mean of x and y\n",
        "    x_mean,y_mean=np.mean(x),np.mean(y);\n",
        "    \n",
        "    # calculating cross-deviation and deviation about x \n",
        "    ss_xy=np.sum(y*x)-N*x_mean*y_mean;\n",
        "    ss_xx=np.sum(x*x)-N*x_mean*x_mean;\n",
        "    \n",
        "    #calculating regression coefficients\n",
        "    b1=ss_xy/ss_xx;\n",
        "    b0=y_mean-b1*x_mean;\n",
        "    \n",
        "    return (b0,b1);"
      ],
      "execution_count": 3,
      "outputs": []
    },
    {
      "cell_type": "code",
      "metadata": {
        "id": "9UlwjV4gOfN1"
      },
      "source": [
        "def plot_regression_line(x,y,b):\n",
        "    #plotting actual points as scatter points\n",
        "    plt.scatter(x,y, color=\"m\", marker=\"o\",s=30)\n",
        "    \n",
        "    #predicted response vector\n",
        "    y_pred=b[0]+b[1]*x;\n",
        "    \n",
        "    plt.plot(x,y_pred, color=\"g\");\n",
        "    \n",
        "    #putting labels\n",
        "    plt.xlabel(\"X\")\n",
        "    plt.ylabel(\"Y\")\n",
        "    \n",
        "    #function to show plot \n",
        "    plt.show()"
      ],
      "execution_count": 4,
      "outputs": []
    },
    {
      "cell_type": "code",
      "metadata": {
        "colab": {
          "base_uri": "https://localhost:8080/"
        },
        "id": "3W-j2GZEOfN1",
        "outputId": "4ffc8b08-e303-4f5f-85a9-1ee145b18e3a"
      },
      "source": [
        "b=estimate_coefficient(x,y)\n",
        "print(\"Estimated coefficients:\\n b0 = {} \\n b1 = {}\".format(b[0],b[1]))"
      ],
      "execution_count": 5,
      "outputs": [
        {
          "output_type": "stream",
          "text": [
            "Estimated coefficients:\n",
            " b0 = 12.584627964022893 \n",
            " b1 = 4.58789860997547\n"
          ],
          "name": "stdout"
        }
      ]
    },
    {
      "cell_type": "code",
      "metadata": {
        "colab": {
          "base_uri": "https://localhost:8080/",
          "height": 279
        },
        "id": "kCLIrierOfN2",
        "outputId": "09107885-8597-4770-f71e-159160b8435b"
      },
      "source": [
        "# plotting regression line \n",
        "plot_regression_line(x,y,b)"
      ],
      "execution_count": 6,
      "outputs": [
        {
          "output_type": "display_data",
          "data": {
            "image/png": "[encoded data removed]",
            "text/plain": [
              "<Figure size 432x288 with 1 Axes>"
            ]
          },
          "metadata": {
            "tags": [],
            "needs_background": "light"
          }
        }
      ]
    },
    {
      "cell_type": "code",
      "metadata": {
        "id": "DlHOaWQPOfN2"
      },
      "source": [
        "#END OF PROGRAM\n",
        "#Below code for checking sklearns model\n",
        "from sklearn.linear_model import LinearRegression"
      ],
      "execution_count": 7,
      "outputs": []
    },
    {
      "cell_type": "code",
      "metadata": {
        "colab": {
          "base_uri": "https://localhost:8080/"
        },
        "id": "TXZVmAR0OfN3",
        "outputId": "4023944b-d121-4abb-d2cf-71206979b691"
      },
      "source": [
        "model=LinearRegression().fit(np.reshape(x,(-1,2)),np.reshape(y,(-1,2)))\n",
        "model.coef_"
      ],
      "execution_count": 8,
      "outputs": [
        {
          "output_type": "execute_result",
          "data": {
            "text/plain": [
              "array([[ 4.5314367 , -7.99445235],\n",
              "       [ 5.03755334,  1.83015647]])"
            ]
          },
          "metadata": {
            "tags": []
          },
          "execution_count": 8
        }
      ]
    },
    {
      "cell_type": "code",
      "metadata": {
        "colab": {
          "base_uri": "https://localhost:8080/"
        },
        "id": "b--pDDMHOfN4",
        "outputId": "e9970ba8-d088-4850-8d86-d5bd23a7a7d3"
      },
      "source": [
        "model.intercept_"
      ],
      "execution_count": 9,
      "outputs": [
        {
          "output_type": "execute_result",
          "data": {
            "text/plain": [
              "array([121.53798009,  13.06799431])"
            ]
          },
          "metadata": {
            "tags": []
          },
          "execution_count": 9
        }
      ]
    },
    {
      "cell_type": "code",
      "metadata": {
        "colab": {
          "base_uri": "https://localhost:8080/"
        },
        "id": "oXuNYdW0OfN5",
        "outputId": "b4de289c-3c39-4982-d321-4db22f13147a"
      },
      "source": [
        "model.score(np.reshape(x,(-1,2)),np.reshape(y,(-1,2)))"
      ],
      "execution_count": 10,
      "outputs": [
        {
          "output_type": "stream",
          "text": [
            "/usr/local/lib/python3.7/dist-packages/sklearn/base.py:434: FutureWarning: The default value of multioutput (not exposed in score method) will change from 'variance_weighted' to 'uniform_average' in 0.23 to keep consistent with 'metrics.r2_score'. To specify the default value manually and avoid the warning, please either call 'metrics.r2_score' directly or make a custom scorer with 'metrics.make_scorer' (the built-in scorer 'r2' uses multioutput='uniform_average').\n",
            "  \"multioutput='uniform_average').\", FutureWarning)\n"
          ],
          "name": "stderr"
        },
        {
          "output_type": "execute_result",
          "data": {
            "text/plain": [
              "0.977089803588244"
            ]
          },
          "metadata": {
            "tags": []
          },
          "execution_count": 10
        }
      ]
    }
  ]
}